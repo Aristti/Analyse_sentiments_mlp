{
 "cells": [
  {
   "cell_type": "code",
   "execution_count": 1,
   "id": "65a243ef-4561-4f16-8792-78b3d8252fa7",
   "metadata": {},
   "outputs": [],
   "source": [
    "import pandas as pd\n",
    "import numpy as np\n",
    "import matplotlib.pyplot as plt\n",
    "import seaborn as sns\n",
    "import warnings\n",
    "from wordcloud import WordCloud\n",
    "warnings.filterwarnings('ignore')"
   ]
  },
  {
   "cell_type": "code",
   "execution_count": 2,
   "id": "cf3fd1fa-e79d-4548-b6fa-8ca39991f434",
   "metadata": {},
   "outputs": [],
   "source": [
    "df = pd.read_csv(\"C:/Users/DELL/Downloads/archive (9)/IMDB Dataset.csv\")"
   ]
  },
  {
   "cell_type": "code",
   "execution_count": 3,
   "id": "3130fee5-9e7e-4903-bf3d-b3ec994836aa",
   "metadata": {},
   "outputs": [
    {
     "data": {
      "text/html": [
       "<div>\n",
       "<style scoped>\n",
       "    .dataframe tbody tr th:only-of-type {\n",
       "        vertical-align: middle;\n",
       "    }\n",
       "\n",
       "    .dataframe tbody tr th {\n",
       "        vertical-align: top;\n",
       "    }\n",
       "\n",
       "    .dataframe thead th {\n",
       "        text-align: right;\n",
       "    }\n",
       "</style>\n",
       "<table border=\"1\" class=\"dataframe\">\n",
       "  <thead>\n",
       "    <tr style=\"text-align: right;\">\n",
       "      <th></th>\n",
       "      <th>review</th>\n",
       "      <th>sentiment</th>\n",
       "    </tr>\n",
       "  </thead>\n",
       "  <tbody>\n",
       "    <tr>\n",
       "      <th>0</th>\n",
       "      <td>One of the other reviewers has mentioned that ...</td>\n",
       "      <td>positive</td>\n",
       "    </tr>\n",
       "    <tr>\n",
       "      <th>1</th>\n",
       "      <td>A wonderful little production. &lt;br /&gt;&lt;br /&gt;The...</td>\n",
       "      <td>positive</td>\n",
       "    </tr>\n",
       "    <tr>\n",
       "      <th>2</th>\n",
       "      <td>I thought this was a wonderful way to spend ti...</td>\n",
       "      <td>positive</td>\n",
       "    </tr>\n",
       "    <tr>\n",
       "      <th>3</th>\n",
       "      <td>Basically there's a family where a little boy ...</td>\n",
       "      <td>negative</td>\n",
       "    </tr>\n",
       "    <tr>\n",
       "      <th>4</th>\n",
       "      <td>Petter Mattei's \"Love in the Time of Money\" is...</td>\n",
       "      <td>positive</td>\n",
       "    </tr>\n",
       "  </tbody>\n",
       "</table>\n",
       "</div>"
      ],
      "text/plain": [
       "                                              review sentiment\n",
       "0  One of the other reviewers has mentioned that ...  positive\n",
       "1  A wonderful little production. <br /><br />The...  positive\n",
       "2  I thought this was a wonderful way to spend ti...  positive\n",
       "3  Basically there's a family where a little boy ...  negative\n",
       "4  Petter Mattei's \"Love in the Time of Money\" is...  positive"
      ]
     },
     "execution_count": 3,
     "metadata": {},
     "output_type": "execute_result"
    }
   ],
   "source": [
    "df.head()\n"
   ]
  },
  {
   "cell_type": "code",
   "execution_count": 4,
   "id": "95cd1574-0406-475d-8d3c-3766a218eb79",
   "metadata": {},
   "outputs": [
    {
     "data": {
      "text/plain": [
       "(50000, 2)"
      ]
     },
     "execution_count": 4,
     "metadata": {},
     "output_type": "execute_result"
    }
   ],
   "source": [
    "df.shape\n"
   ]
  },
  {
   "cell_type": "code",
   "execution_count": 5,
   "id": "9a515840-c994-41d9-83bf-74fe473d13e9",
   "metadata": {},
   "outputs": [
    {
     "data": {
      "text/plain": [
       "\"One of the other reviewers has mentioned that after watching just 1 Oz episode you'll be hooked. They are right, as this is exactly what happened with me.<br /><br />The first thing that struck me about Oz was its brutality and unflinching scenes of violence, which set in right from the word GO. Trust me, this is not a show for the faint hearted or timid. This show pulls no punches with regards to drugs, sex or violence. Its is hardcore, in the classic use of the word.<br /><br />It is called OZ as that is the nickname given to the Oswald Maximum Security State Penitentary. It focuses mainly on Emerald City, an experimental section of the prison where all the cells have glass fronts and face inwards, so privacy is not high on the agenda. Em City is home to many..Aryans, Muslims, gangstas, Latinos, Christians, Italians, Irish and more....so scuffles, death stares, dodgy dealings and shady agreements are never far away.<br /><br />I would say the main appeal of the show is due to the fact that it goes where other shows wouldn't dare. Forget pretty pictures painted for mainstream audiences, forget charm, forget romance...OZ doesn't mess around. The first episode I ever saw struck me as so nasty it was surreal, I couldn't say I was ready for it, but as I watched more, I developed a taste for Oz, and got accustomed to the high levels of graphic violence. Not just violence, but injustice (crooked guards who'll be sold out for a nickel, inmates who'll kill on order and get away with it, well mannered, middle class inmates being turned into prison bitches due to their lack of street skills or prison experience) Watching Oz, you may become comfortable with what is uncomfortable viewing....thats if you can get in touch with your darker side.\""
      ]
     },
     "execution_count": 5,
     "metadata": {},
     "output_type": "execute_result"
    }
   ],
   "source": [
    "df['review'][0]\n"
   ]
  },
  {
   "cell_type": "code",
   "execution_count": 6,
   "id": "2879e9a3-8e39-48d6-aace-01121f7288c3",
   "metadata": {},
   "outputs": [
    {
     "data": {
      "text/plain": [
       "sentiment\n",
       "positive    25000\n",
       "negative    25000\n",
       "Name: count, dtype: int64"
      ]
     },
     "execution_count": 6,
     "metadata": {},
     "output_type": "execute_result"
    }
   ],
   "source": [
    "#Sentiment count\n",
    "df['sentiment'].value_counts()"
   ]
  },
  {
   "cell_type": "code",
   "execution_count": 7,
   "id": "063e4995-845b-4a92-942b-905bd2ad89c8",
   "metadata": {},
   "outputs": [],
   "source": [
    "# Étiquettes binaires : 1 = positif, 0 = négatif\n",
    "df['label'] = df['sentiment'].map({'positive': 1, 'negative': 0})"
   ]
  },
  {
   "cell_type": "code",
   "execution_count": 8,
   "id": "91c56513-d1f9-4def-b42a-6ef9aa5c30ea",
   "metadata": {},
   "outputs": [
    {
     "data": {
      "text/plain": [
       "\"One of the other reviewers has mentioned that after watching just 1 Oz episode you'll be hooked. They are right, as this is exactly what happened with me.<br /><br />The first thing that struck me about Oz was its brutality and unflinching scenes of violence, which set in right from the word GO. Trust me, this is not a show for the faint hearted or timid. This show pulls no punches with regards to drugs, sex or violence. Its is hardcore, in the classic use of the word.<br /><br />It is called OZ as that is the nickname given to the Oswald Maximum Security State Penitentary. It focuses mainly on Emerald City, an experimental section of the prison where all the cells have glass fronts and face inwards, so privacy is not high on the agenda. Em City is home to many..Aryans, Muslims, gangstas, Latinos, Christians, Italians, Irish and more....so scuffles, death stares, dodgy dealings and shady agreements are never far away.<br /><br />I would say the main appeal of the show is due to the fact that it goes where other shows wouldn't dare. Forget pretty pictures painted for mainstream audiences, forget charm, forget romance...OZ doesn't mess around. The first episode I ever saw struck me as so nasty it was surreal, I couldn't say I was ready for it, but as I watched more, I developed a taste for Oz, and got accustomed to the high levels of graphic violence. Not just violence, but injustice (crooked guards who'll be sold out for a nickel, inmates who'll kill on order and get away with it, well mannered, middle class inmates being turned into prison bitches due to their lack of street skills or prison experience) Watching Oz, you may become comfortable with what is uncomfortable viewing....thats if you can get in touch with your darker side.\""
      ]
     },
     "execution_count": 8,
     "metadata": {},
     "output_type": "execute_result"
    }
   ],
   "source": [
    "df.head()\n",
    "df['review'].iloc[0]\n"
   ]
  },
  {
   "cell_type": "code",
   "execution_count": 9,
   "id": "ffa74813-7b64-4bef-af85-0b36dc535b42",
   "metadata": {},
   "outputs": [
    {
     "name": "stderr",
     "output_type": "stream",
     "text": [
      "[nltk_data] Downloading package stopwords to\n",
      "[nltk_data]     C:\\Users\\DELL\\AppData\\Roaming\\nltk_data...\n",
      "[nltk_data]   Package stopwords is already up-to-date!\n"
     ]
    }
   ],
   "source": [
    "import re\n",
    "import nltk\n",
    "from nltk.corpus import stopwords\n",
    "\n",
    "nltk.download('stopwords')\n",
    "stop_words = set(stopwords.words('english'))\n",
    "def clean_text(text):\n",
    "    text = text.lower()\n",
    "    text = re.sub(r\"<.*?>\", \"\", text)  \n",
    "    text = re.sub(r\"[^\\w\\s]\", \"\", text)  \n",
    "    text = \" \".join([word for word in text.split() if word not in stop_words])  \n",
    "    return text"
   ]
  },
  {
   "cell_type": "code",
   "execution_count": 10,
   "id": "3dde95da-12ae-4ac9-a38b-c3d0effbceba",
   "metadata": {},
   "outputs": [],
   "source": [
    "df['clean_review'] = df['review'].apply(clean_text)\n"
   ]
  },
  {
   "cell_type": "code",
   "execution_count": 11,
   "id": "bb0b7eec-7919-40c4-ae29-e3f465f45626",
   "metadata": {},
   "outputs": [],
   "source": [
    "X = df['clean_review']\n",
    "y = df['label']\n",
    "\n",
    "from sklearn.feature_extraction.text import CountVectorizer\n",
    "from sklearn.model_selection import train_test_split\n",
    "\n",
    "\n",
    "vectorizer = CountVectorizer(max_features=5000)\n",
    "X_bow = vectorizer.fit_transform(df['clean_review']).toarray()\n",
    "y = df['label'].values.reshape(1, -1)\n",
    "\n",
    "\n",
    "X_train, X_test, y_train, y_test = train_test_split(X_bow, y.T, test_size=0.2, random_state=42)\n",
    "X_train = X_train.T\n",
    "X_test = X_test.T\n",
    "y_train = y_train.T\n",
    "y_test = y_test.T"
   ]
  },
  {
   "cell_type": "code",
   "execution_count": 12,
   "id": "20b4ddbf-0868-4f2e-8b53-c1b440904b95",
   "metadata": {},
   "outputs": [],
   "source": [
    "# --------------------------\n",
    "# FONCTIONS DU MLP\n",
    "# --------------------------\n",
    "from sklearn.metrics import accuracy_score, log_loss\n",
    "from tqdm import tqdm\n",
    "def initialisation(dimensions):\n",
    "    parametres = {}\n",
    "    C = len(dimensions)\n",
    "    np.random.seed(1)\n",
    "    for c in range(1, C):\n",
    "        parametres['W' + str(c)] = np.random.randn(dimensions[c], dimensions[c - 1])\n",
    "        parametres['b' + str(c)] = np.random.randn(dimensions[c], 1)\n",
    "    return parametres\n",
    "\n",
    "def forward_propagation(X, parametres):\n",
    "    activations = {'A0': X}\n",
    "    C = len(parametres) // 2\n",
    "    for c in range(1, C + 1):\n",
    "        Z = parametres['W' + str(c)].dot(activations['A' + str(c - 1)]) + parametres['b' + str(c)]\n",
    "        activations['A' + str(c)] = 1 / (1 + np.exp(-Z))\n",
    "    return activations\n",
    "\n",
    "def back_propagation(y, parametres, activations):\n",
    "    m = y.shape[1]\n",
    "    C = len(parametres) // 2\n",
    "    dZ = activations['A' + str(C)] - y\n",
    "    gradients = {}\n",
    "    for c in reversed(range(1, C + 1)):\n",
    "        gradients['dW' + str(c)] = 1/m * np.dot(dZ, activations['A' + str(c - 1)].T)\n",
    "        gradients['db' + str(c)] = 1/m * np.sum(dZ, axis=1, keepdims=True)\n",
    "        if c > 1:\n",
    "            dZ = np.dot(parametres['W' + str(c)].T, dZ) * activations['A' + str(c - 1)] * (1 - activations['A' + str(c - 1)])\n",
    "    return gradients\n",
    "\n",
    "def update(gradients, parametres, learning_rate):\n",
    "    C = len(parametres) // 2\n",
    "    for c in range(1, C + 1):\n",
    "        parametres['W' + str(c)] -= learning_rate * gradients['dW' + str(c)]\n",
    "        parametres['b' + str(c)] -= learning_rate * gradients['db' + str(c)]\n",
    "    return parametres\n",
    "\n",
    "def predict(X, parametres):\n",
    "    activations = forward_propagation(X, parametres)\n",
    "    C = len(parametres) // 2\n",
    "    Af = activations['A' + str(C)]\n",
    "    return Af >= 0.5\n",
    "\n",
    "def deep_neural_network(X, y, couche_cachees=(32, 16), learning_rate=0.1, n_iter=1000):\n",
    "    dimensions = list(couche_cachees)\n",
    "    dimensions.insert(0, X.shape[0])\n",
    "    dimensions.append(y.shape[0])\n",
    "    parametres = initialisation(dimensions)\n",
    "    training_history = np.zeros((int(n_iter), 2))\n",
    "    C = len(parametres) // 2\n",
    "    for i in tqdm(range(n_iter)):\n",
    "        activations = forward_propagation(X, parametres)\n",
    "        gradients = back_propagation(y, parametres, activations)\n",
    "        parametres = update(gradients, parametres, learning_rate)\n",
    "        Af = activations['A' + str(C)]\n",
    "        training_history[i, 0] = log_loss(y.flatten(), Af.flatten())\n",
    "        y_pred = predict(X, parametres)\n",
    "        training_history[i, 1] = accuracy_score(y.flatten(), y_pred.flatten())\n",
    "    return parametres, training_history"
   ]
  },
  {
   "cell_type": "code",
   "execution_count": null,
   "id": "e0ea3bcd-042a-462a-bd25-664e6becca30",
   "metadata": {},
   "outputs": [
    {
     "name": "stderr",
     "output_type": "stream",
     "text": [
      " 62%|███████████████████████████████████████████████▏                            | 435/700 [2:44:08<1:43:07, 23.35s/it]"
     ]
    }
   ],
   "source": [
    "parametres, history = deep_neural_network(X_train, y_train, couche_cachees=(512,256,128,64), learning_rate=0.1, n_iter=700)\n"
   ]
  },
  {
   "cell_type": "code",
   "execution_count": null,
   "id": "b5a3c355-f8d7-4b2d-8bd8-da3600af59d1",
   "metadata": {},
   "outputs": [],
   "source": [
    "y_pred_test = predict(X_test, parametres)\n",
    "print(\"Accuracy test :\", accuracy_score(y_test.flatten(), y_pred_test.flatten()))"
   ]
  },
  {
   "cell_type": "code",
   "execution_count": null,
   "id": "f1e71da0-a02d-4e56-a264-ee46e148c8f5",
   "metadata": {},
   "outputs": [],
   "source": [
    "# --------------------------\n",
    "# SAUVEGARDE DU MODÈLE ET DU VECTEUR\n",
    "# --------------------------\n",
    "import pickle\n",
    "with open(\"mlp_sentiment.pkl\", \"wb\") as f:\n",
    "    pickle.dump(parametres, f)\n",
    "\n",
    "with open(\"vectorizer.pkl\", \"wb\") as f:\n",
    "    pickle.dump(vectorizer, f)"
   ]
  },
  {
   "cell_type": "code",
   "execution_count": null,
   "id": "0d433312-3719-41db-976e-5d5701ae120a",
   "metadata": {},
   "outputs": [],
   "source": [
    "# --------------------------\n",
    "# COURBES D'APPRENTISSAGE\n",
    "# --------------------------\n",
    "plt.figure(figsize=(10,4))\n",
    "plt.subplot(1,2,1)\n",
    "plt.plot(history[:,0])\n",
    "plt.title(\"Log Loss\")\n",
    "plt.subplot(1,2,2)\n",
    "plt.plot(history[:,1])\n",
    "plt.title(\"Accuracy\")\n",
    "plt.tight_layout()\n",
    "plt.show()"
   ]
  },
  {
   "cell_type": "code",
   "execution_count": null,
   "id": "57ade086-808b-4fc5-b4c1-f7f4b3acc049",
   "metadata": {},
   "outputs": [],
   "source": []
  }
 ],
 "metadata": {
  "kernelspec": {
   "display_name": "Python 3 (ipykernel)",
   "language": "python",
   "name": "python3"
  },
  "language_info": {
   "codemirror_mode": {
    "name": "ipython",
    "version": 3
   },
   "file_extension": ".py",
   "mimetype": "text/x-python",
   "name": "python",
   "nbconvert_exporter": "python",
   "pygments_lexer": "ipython3",
   "version": "3.12.4"
  }
 },
 "nbformat": 4,
 "nbformat_minor": 5
}
